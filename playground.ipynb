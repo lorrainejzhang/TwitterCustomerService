{
 "cells": [
  {
   "cell_type": "code",
   "execution_count": 21,
   "metadata": {},
   "outputs": [
    {
     "data": {
      "text/plain": [
       "'Connected: isdb@postgres'"
      ]
     },
     "execution_count": 21,
     "metadata": {},
     "output_type": "execute_result"
    }
   ],
   "source": [
    "%reload_ext sql\n",
    "%sql postgres://isdb@localhost/postgres"
   ]
  },
  {
   "cell_type": "code",
   "execution_count": 22,
   "metadata": {},
   "outputs": [
    {
     "name": "stdout",
     "output_type": "stream",
     "text": [
      "5 rows affected.\n"
     ]
    },
    {
     "data": {
      "text/html": [
       "<table>\n",
       "    <tr>\n",
       "        <th>tweet_id</th>\n",
       "        <th>author_id</th>\n",
       "        <th>inbound</th>\n",
       "        <th>created_at</th>\n",
       "        <th>tweet</th>\n",
       "        <th>response_tweet_id</th>\n",
       "        <th>in_response_to_tweet_id</th>\n",
       "    </tr>\n",
       "    <tr>\n",
       "        <td>1</td>\n",
       "        <td>sprintcare</td>\n",
       "        <td>False</td>\n",
       "        <td>2017-10-31 22:10:47</td>\n",
       "        <td>@115712 I understand. I would like to assist you. We would need to get you into a private secured link to further assist.</td>\n",
       "        <td>2</td>\n",
       "        <td>3</td>\n",
       "    </tr>\n",
       "    <tr>\n",
       "        <td>2</td>\n",
       "        <td>115712</td>\n",
       "        <td>True</td>\n",
       "        <td>2017-10-31 22:11:45</td>\n",
       "        <td>@sprintcare and how do you propose we do that</td>\n",
       "        <td>None</td>\n",
       "        <td>1</td>\n",
       "    </tr>\n",
       "    <tr>\n",
       "        <td>3</td>\n",
       "        <td>115712</td>\n",
       "        <td>True</td>\n",
       "        <td>2017-10-31 22:08:27</td>\n",
       "        <td>@sprintcare I have sent several private messages and no one is responding as usual</td>\n",
       "        <td>1</td>\n",
       "        <td>4</td>\n",
       "    </tr>\n",
       "    <tr>\n",
       "        <td>4</td>\n",
       "        <td>sprintcare</td>\n",
       "        <td>False</td>\n",
       "        <td>2017-10-31 21:54:49</td>\n",
       "        <td>@115712 Please send us a Private Message so that we can further assist you. Just click âMessageâ at the top of your profile.</td>\n",
       "        <td>3</td>\n",
       "        <td>5</td>\n",
       "    </tr>\n",
       "    <tr>\n",
       "        <td>5</td>\n",
       "        <td>115712</td>\n",
       "        <td>True</td>\n",
       "        <td>2017-10-31 21:49:35</td>\n",
       "        <td>@sprintcare I did.</td>\n",
       "        <td>4</td>\n",
       "        <td>6</td>\n",
       "    </tr>\n",
       "</table>"
      ],
      "text/plain": [
       "[('1', 'sprintcare', False, datetime.datetime(2017, 10, 31, 22, 10, 47), '@115712 I understand. I would like to assist you. We would need to get you into a private secured link to further assist.', '2', '3'),\n",
       " ('2', '115712', True, datetime.datetime(2017, 10, 31, 22, 11, 45), '@sprintcare and how do you propose we do that', None, '1'),\n",
       " ('3', '115712', True, datetime.datetime(2017, 10, 31, 22, 8, 27), '@sprintcare I have sent several private messages and no one is responding as usual', '1', '4'),\n",
       " ('4', 'sprintcare', False, datetime.datetime(2017, 10, 31, 21, 54, 49), '@115712 Please send us a Private Message so that we can further assist you. Just click â\\x80\\x98Messageâ\\x80\\x99 at the top of your profile.', '3', '5'),\n",
       " ('5', '115712', True, datetime.datetime(2017, 10, 31, 21, 49, 35), '@sprintcare I did.', '4', '6')]"
      ]
     },
     "execution_count": 22,
     "metadata": {},
     "output_type": "execute_result"
    }
   ],
   "source": [
    "%%sql\n",
    "\n",
    "SELECT * FROM TweetsRaw LIMIT 5;"
   ]
  },
  {
   "cell_type": "code",
   "execution_count": 25,
   "metadata": {},
   "outputs": [
    {
     "name": "stdout",
     "output_type": "stream",
     "text": [
      "Done.\n",
      "Done.\n"
     ]
    },
    {
     "data": {
      "text/plain": [
       "[]"
      ]
     },
     "execution_count": 25,
     "metadata": {},
     "output_type": "execute_result"
    }
   ],
   "source": [
    "%%sql\n",
    "\n",
    "DROP VIEW IF EXISTS OriginalTweets;\n",
    "\n",
    "CREATE VIEW OriginalTweets AS\n",
    "SELECT * FROM TweetsRaw\n",
    "WHERE in_response_to_tweet_id IS NULL;"
   ]
  },
  {
   "cell_type": "code",
   "execution_count": 43,
   "metadata": {},
   "outputs": [
    {
     "name": "stdout",
     "output_type": "stream",
     "text": [
      "Done.\n",
      "Done.\n"
     ]
    },
    {
     "data": {
      "text/plain": [
       "[]"
      ]
     },
     "execution_count": 43,
     "metadata": {},
     "output_type": "execute_result"
    }
   ],
   "source": [
    "%%sql\n",
    "\n",
    "DROP VIEW IF EXISTS TweetsReplied;\n",
    "\n",
    "CREATE VIEW TweetsReplied AS\n",
    "SELECT * FROM TweetsRaw\n",
    "WHERE response_tweet_id IS NOT NULL;"
   ]
  },
  {
   "cell_type": "code",
   "execution_count": 41,
   "metadata": {},
   "outputs": [
    {
     "name": "stdout",
     "output_type": "stream",
     "text": [
      "Done.\n",
      "Done.\n"
     ]
    },
    {
     "data": {
      "text/plain": [
       "[]"
      ]
     },
     "execution_count": 41,
     "metadata": {},
     "output_type": "execute_result"
    }
   ],
   "source": [
    "%%sql\n",
    "\n",
    "DROP VIEW IF EXISTS TweetsNotReplied;\n",
    "\n",
    "CREATE VIEW TweetsNotReplied AS\n",
    "SELECT * FROM TweetsRaw\n",
    "WHERE response_tweet_id IS NULL;"
   ]
  },
  {
   "cell_type": "code",
   "execution_count": 29,
   "metadata": {},
   "outputs": [
    {
     "name": "stdout",
     "output_type": "stream",
     "text": [
      "5 rows affected.\n"
     ]
    },
    {
     "data": {
      "text/html": [
       "<table>\n",
       "    <tr>\n",
       "        <th>tweet_id</th>\n",
       "        <th>tweet</th>\n",
       "        <th>replies</th>\n",
       "    </tr>\n",
       "    <tr>\n",
       "        <td>1000001</td>\n",
       "        <td>@AppleSupport Is this allowed when you upgrade at an Apple store with the upgrade program?</td>\n",
       "        <td>1</td>\n",
       "    </tr>\n",
       "    <tr>\n",
       "        <td>1000003</td>\n",
       "        <td>@AppleSupport  https://t.co/OnHabGwPo7</td>\n",
       "        <td>1</td>\n",
       "    </tr>\n",
       "    <tr>\n",
       "        <td>1000010</td>\n",
       "        <td>@AppleSupport Does this mean I donât have to back my old phone up?</td>\n",
       "        <td>1</td>\n",
       "    </tr>\n",
       "    <tr>\n",
       "        <td>1000011</td>\n",
       "        <td>@356751 Thanks for reaching out to us for support. We would love to help you. Please DM us so that we can look into this together. https://t.co/GDrqU22YpT</td>\n",
       "        <td>1</td>\n",
       "    </tr>\n",
       "    <tr>\n",
       "        <td>10</td>\n",
       "        <td>@115712 Hello! We never like our customers to feel like they are not valued.</td>\n",
       "        <td>1</td>\n",
       "    </tr>\n",
       "</table>"
      ],
      "text/plain": [
       "[('1000001', '@AppleSupport Is this allowed when you upgrade at an Apple store with the upgrade program?', 1),\n",
       " ('1000003', '@AppleSupport  https://t.co/OnHabGwPo7', 1),\n",
       " ('1000010', '@AppleSupport Does this mean I donâ\\x80\\x99t have to back my old phone up?', 1),\n",
       " ('1000011', '@356751 Thanks for reaching out to us for support. We would love to help you. Please DM us so that we can look into this together. https://t.co/GDrqU22YpT', 1),\n",
       " ('10', '@115712 Hello! We never like our customers to feel like they are not valued.', 1)]"
      ]
     },
     "execution_count": 29,
     "metadata": {},
     "output_type": "execute_result"
    }
   ],
   "source": [
    "%%sql\n",
    "\n",
    "SELECT r.tweet_id, r.tweet, COUNT(o.*) AS replies\n",
    "FROM OriginalTweets AS o\n",
    "JOIN TweetsRaw AS r\n",
    "ON r.in_response_to_tweet_id = o.tweet_id\n",
    "GROUP BY r.tweet_id, r.tweet\n",
    "ORDER BY replies DESC\n",
    "LIMIT 5;"
   ]
  },
  {
   "cell_type": "code",
   "execution_count": 36,
   "metadata": {},
   "outputs": [
    {
     "name": "stdout",
     "output_type": "stream",
     "text": [
      "1 rows affected.\n"
     ]
    },
    {
     "data": {
      "text/html": [
       "<table>\n",
       "    <tr>\n",
       "        <th>count</th>\n",
       "    </tr>\n",
       "    <tr>\n",
       "        <td>2811774</td>\n",
       "    </tr>\n",
       "</table>"
      ],
      "text/plain": [
       "[(2811774,)]"
      ]
     },
     "execution_count": 36,
     "metadata": {},
     "output_type": "execute_result"
    }
   ],
   "source": [
    "%%sql\n",
    "\n",
    "SELECT COUNT(*) FROM TweetsRaw;"
   ]
  },
  {
   "cell_type": "code",
   "execution_count": 44,
   "metadata": {},
   "outputs": [
    {
     "name": "stdout",
     "output_type": "stream",
     "text": [
      "1 rows affected.\n"
     ]
    },
    {
     "data": {
      "text/html": [
       "<table>\n",
       "    <tr>\n",
       "        <th>count</th>\n",
       "    </tr>\n",
       "    <tr>\n",
       "        <td>1771145</td>\n",
       "    </tr>\n",
       "</table>"
      ],
      "text/plain": [
       "[(1771145,)]"
      ]
     },
     "execution_count": 44,
     "metadata": {},
     "output_type": "execute_result"
    }
   ],
   "source": [
    "%%sql\n",
    "SELECT COUNT(*) FROM TweetsReplied;"
   ]
  },
  {
   "cell_type": "code",
   "execution_count": 42,
   "metadata": {},
   "outputs": [
    {
     "name": "stdout",
     "output_type": "stream",
     "text": [
      "1 rows affected.\n"
     ]
    },
    {
     "data": {
      "text/html": [
       "<table>\n",
       "    <tr>\n",
       "        <th>count</th>\n",
       "    </tr>\n",
       "    <tr>\n",
       "        <td>1040629</td>\n",
       "    </tr>\n",
       "</table>"
      ],
      "text/plain": [
       "[(1040629,)]"
      ]
     },
     "execution_count": 42,
     "metadata": {},
     "output_type": "execute_result"
    }
   ],
   "source": [
    "%%sql\n",
    "SELECT COUNT(*) FROM TweetsNotReplied;"
   ]
  },
  {
   "cell_type": "code",
   "execution_count": null,
   "metadata": {
    "collapsed": true
   },
   "outputs": [],
   "source": []
  }
 ],
 "metadata": {
  "kernelspec": {
   "display_name": "Python 3",
   "language": "python",
   "name": "python3"
  },
  "language_info": {
   "codemirror_mode": {
    "name": "ipython",
    "version": 3
   },
   "file_extension": ".py",
   "mimetype": "text/x-python",
   "name": "python",
   "nbconvert_exporter": "python",
   "pygments_lexer": "ipython3",
   "version": "3.6.1"
  }
 },
 "nbformat": 4,
 "nbformat_minor": 2
}
