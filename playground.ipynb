{
 "cells": [
  {
   "cell_type": "markdown",
   "metadata": {},
   "source": [
    "run with jupyter notebook --NotebookApp.iopub_data_rate_limit=10000000000  playground.ipynb\n",
    "download textblob: pip install -U textblob\n",
    "python -m textblob.download_corpora"
   ]
  },
  {
   "cell_type": "code",
   "execution_count": 1,
   "metadata": {},
   "outputs": [
    {
     "data": {
      "text/plain": [
       "'Connected: isdb@postgres'"
      ]
     },
     "execution_count": 1,
     "metadata": {},
     "output_type": "execute_result"
    }
   ],
   "source": [
    "%reload_ext sql\n",
    "%sql postgres://isdb@localhost/postgres"
   ]
  },
  {
   "cell_type": "code",
   "execution_count": 22,
   "metadata": {},
   "outputs": [
    {
     "name": "stdout",
     "output_type": "stream",
     "text": [
      "5 rows affected.\n"
     ]
    },
    {
     "data": {
      "text/html": [
       "<table>\n",
       "    <tr>\n",
       "        <th>tweet_id</th>\n",
       "        <th>author_id</th>\n",
       "        <th>inbound</th>\n",
       "        <th>created_at</th>\n",
       "        <th>tweet</th>\n",
       "        <th>response_tweet_id</th>\n",
       "        <th>in_response_to_tweet_id</th>\n",
       "    </tr>\n",
       "    <tr>\n",
       "        <td>1</td>\n",
       "        <td>sprintcare</td>\n",
       "        <td>False</td>\n",
       "        <td>2017-10-31 22:10:47</td>\n",
       "        <td>@115712 I understand. I would like to assist you. We would need to get you into a private secured link to further assist.</td>\n",
       "        <td>2</td>\n",
       "        <td>3</td>\n",
       "    </tr>\n",
       "    <tr>\n",
       "        <td>2</td>\n",
       "        <td>115712</td>\n",
       "        <td>True</td>\n",
       "        <td>2017-10-31 22:11:45</td>\n",
       "        <td>@sprintcare and how do you propose we do that</td>\n",
       "        <td>None</td>\n",
       "        <td>1</td>\n",
       "    </tr>\n",
       "    <tr>\n",
       "        <td>3</td>\n",
       "        <td>115712</td>\n",
       "        <td>True</td>\n",
       "        <td>2017-10-31 22:08:27</td>\n",
       "        <td>@sprintcare I have sent several private messages and no one is responding as usual</td>\n",
       "        <td>1</td>\n",
       "        <td>4</td>\n",
       "    </tr>\n",
       "    <tr>\n",
       "        <td>4</td>\n",
       "        <td>sprintcare</td>\n",
       "        <td>False</td>\n",
       "        <td>2017-10-31 21:54:49</td>\n",
       "        <td>@115712 Please send us a Private Message so that we can further assist you. Just click âMessageâ at the top of your profile.</td>\n",
       "        <td>3</td>\n",
       "        <td>5</td>\n",
       "    </tr>\n",
       "    <tr>\n",
       "        <td>5</td>\n",
       "        <td>115712</td>\n",
       "        <td>True</td>\n",
       "        <td>2017-10-31 21:49:35</td>\n",
       "        <td>@sprintcare I did.</td>\n",
       "        <td>4</td>\n",
       "        <td>6</td>\n",
       "    </tr>\n",
       "</table>"
      ],
      "text/plain": [
       "[('1', 'sprintcare', False, datetime.datetime(2017, 10, 31, 22, 10, 47), '@115712 I understand. I would like to assist you. We would need to get you into a private secured link to further assist.', '2', '3'),\n",
       " ('2', '115712', True, datetime.datetime(2017, 10, 31, 22, 11, 45), '@sprintcare and how do you propose we do that', None, '1'),\n",
       " ('3', '115712', True, datetime.datetime(2017, 10, 31, 22, 8, 27), '@sprintcare I have sent several private messages and no one is responding as usual', '1', '4'),\n",
       " ('4', 'sprintcare', False, datetime.datetime(2017, 10, 31, 21, 54, 49), '@115712 Please send us a Private Message so that we can further assist you. Just click â\\x80\\x98Messageâ\\x80\\x99 at the top of your profile.', '3', '5'),\n",
       " ('5', '115712', True, datetime.datetime(2017, 10, 31, 21, 49, 35), '@sprintcare I did.', '4', '6')]"
      ]
     },
     "execution_count": 22,
     "metadata": {},
     "output_type": "execute_result"
    }
   ],
   "source": [
    "%%sql\n",
    "\n",
    "SELECT * FROM TweetsRaw LIMIT 5;"
   ]
  },
  {
   "cell_type": "code",
   "execution_count": 25,
   "metadata": {},
   "outputs": [
    {
     "name": "stdout",
     "output_type": "stream",
     "text": [
      "Done.\n",
      "Done.\n"
     ]
    },
    {
     "data": {
      "text/plain": [
       "[]"
      ]
     },
     "execution_count": 25,
     "metadata": {},
     "output_type": "execute_result"
    }
   ],
   "source": [
    "%%sql\n",
    "\n",
    "DROP VIEW IF EXISTS OriginalTweets;\n",
    "\n",
    "CREATE VIEW OriginalTweets AS\n",
    "SELECT * FROM TweetsRaw\n",
    "WHERE in_response_to_tweet_id IS NULL;"
   ]
  },
  {
   "cell_type": "code",
   "execution_count": 43,
   "metadata": {},
   "outputs": [
    {
     "name": "stdout",
     "output_type": "stream",
     "text": [
      "Done.\n",
      "Done.\n"
     ]
    },
    {
     "data": {
      "text/plain": [
       "[]"
      ]
     },
     "execution_count": 43,
     "metadata": {},
     "output_type": "execute_result"
    }
   ],
   "source": [
    "%%sql\n",
    "\n",
    "DROP VIEW IF EXISTS TweetsReplied;\n",
    "\n",
    "CREATE VIEW TweetsReplied AS\n",
    "SELECT * FROM TweetsRaw\n",
    "WHERE response_tweet_id IS NOT NULL;"
   ]
  },
  {
   "cell_type": "code",
   "execution_count": 2,
   "metadata": {},
   "outputs": [
    {
     "name": "stdout",
     "output_type": "stream",
     "text": [
      "Done.\n",
      "Done.\n"
     ]
    },
    {
     "data": {
      "text/plain": [
       "[]"
      ]
     },
     "execution_count": 2,
     "metadata": {},
     "output_type": "execute_result"
    }
   ],
   "source": [
    "%%sql\n",
    "\n",
    "DROP VIEW IF EXISTS TweetsNotReplied;\n",
    "\n",
    "CREATE VIEW TweetsNotReplied AS\n",
    "SELECT * FROM TweetsRaw\n",
    "WHERE response_tweet_id IS NULL\n",
    "LIMIT 5;"
   ]
  },
  {
   "cell_type": "code",
   "execution_count": 29,
   "metadata": {},
   "outputs": [
    {
     "name": "stdout",
     "output_type": "stream",
     "text": [
      "5 rows affected.\n"
     ]
    },
    {
     "data": {
      "text/html": [
       "<table>\n",
       "    <tr>\n",
       "        <th>tweet_id</th>\n",
       "        <th>tweet</th>\n",
       "        <th>replies</th>\n",
       "    </tr>\n",
       "    <tr>\n",
       "        <td>1000001</td>\n",
       "        <td>@AppleSupport Is this allowed when you upgrade at an Apple store with the upgrade program?</td>\n",
       "        <td>1</td>\n",
       "    </tr>\n",
       "    <tr>\n",
       "        <td>1000003</td>\n",
       "        <td>@AppleSupport  https://t.co/OnHabGwPo7</td>\n",
       "        <td>1</td>\n",
       "    </tr>\n",
       "    <tr>\n",
       "        <td>1000010</td>\n",
       "        <td>@AppleSupport Does this mean I donât have to back my old phone up?</td>\n",
       "        <td>1</td>\n",
       "    </tr>\n",
       "    <tr>\n",
       "        <td>1000011</td>\n",
       "        <td>@356751 Thanks for reaching out to us for support. We would love to help you. Please DM us so that we can look into this together. https://t.co/GDrqU22YpT</td>\n",
       "        <td>1</td>\n",
       "    </tr>\n",
       "    <tr>\n",
       "        <td>10</td>\n",
       "        <td>@115712 Hello! We never like our customers to feel like they are not valued.</td>\n",
       "        <td>1</td>\n",
       "    </tr>\n",
       "</table>"
      ],
      "text/plain": [
       "[('1000001', '@AppleSupport Is this allowed when you upgrade at an Apple store with the upgrade program?', 1),\n",
       " ('1000003', '@AppleSupport  https://t.co/OnHabGwPo7', 1),\n",
       " ('1000010', '@AppleSupport Does this mean I donâ\\x80\\x99t have to back my old phone up?', 1),\n",
       " ('1000011', '@356751 Thanks for reaching out to us for support. We would love to help you. Please DM us so that we can look into this together. https://t.co/GDrqU22YpT', 1),\n",
       " ('10', '@115712 Hello! We never like our customers to feel like they are not valued.', 1)]"
      ]
     },
     "execution_count": 29,
     "metadata": {},
     "output_type": "execute_result"
    }
   ],
   "source": [
    "%%sql\n",
    "\n",
    "SELECT r.tweet_id, r.tweet, COUNT(o.*) AS replies\n",
    "FROM OriginalTweets AS o\n",
    "JOIN TweetsRaw AS r\n",
    "ON r.in_response_to_tweet_id = o.tweet_id\n",
    "GROUP BY r.tweet_id, r.tweet\n",
    "ORDER BY replies DESC\n",
    "LIMIT 5;"
   ]
  },
  {
   "cell_type": "code",
   "execution_count": 36,
   "metadata": {},
   "outputs": [
    {
     "name": "stdout",
     "output_type": "stream",
     "text": [
      "1 rows affected.\n"
     ]
    },
    {
     "data": {
      "text/html": [
       "<table>\n",
       "    <tr>\n",
       "        <th>count</th>\n",
       "    </tr>\n",
       "    <tr>\n",
       "        <td>2811774</td>\n",
       "    </tr>\n",
       "</table>"
      ],
      "text/plain": [
       "[(2811774,)]"
      ]
     },
     "execution_count": 36,
     "metadata": {},
     "output_type": "execute_result"
    }
   ],
   "source": [
    "%%sql\n",
    "\n",
    "SELECT COUNT(*) FROM TweetsRaw;"
   ]
  },
  {
   "cell_type": "code",
   "execution_count": 44,
   "metadata": {},
   "outputs": [
    {
     "name": "stdout",
     "output_type": "stream",
     "text": [
      "1 rows affected.\n"
     ]
    },
    {
     "data": {
      "text/html": [
       "<table>\n",
       "    <tr>\n",
       "        <th>count</th>\n",
       "    </tr>\n",
       "    <tr>\n",
       "        <td>1771145</td>\n",
       "    </tr>\n",
       "</table>"
      ],
      "text/plain": [
       "[(1771145,)]"
      ]
     },
     "execution_count": 44,
     "metadata": {},
     "output_type": "execute_result"
    }
   ],
   "source": [
    "%%sql\n",
    "SELECT COUNT(*) FROM TweetsReplied;"
   ]
  },
  {
   "cell_type": "code",
   "execution_count": 42,
   "metadata": {},
   "outputs": [
    {
     "name": "stdout",
     "output_type": "stream",
     "text": [
      "1 rows affected.\n"
     ]
    },
    {
     "data": {
      "text/html": [
       "<table>\n",
       "    <tr>\n",
       "        <th>count</th>\n",
       "    </tr>\n",
       "    <tr>\n",
       "        <td>1040629</td>\n",
       "    </tr>\n",
       "</table>"
      ],
      "text/plain": [
       "[(1040629,)]"
      ]
     },
     "execution_count": 42,
     "metadata": {},
     "output_type": "execute_result"
    }
   ],
   "source": [
    "%%sql\n",
    "SELECT COUNT(*) FROM TweetsNotReplied;"
   ]
  },
  {
   "cell_type": "code",
   "execution_count": 53,
   "metadata": {},
   "outputs": [
    {
     "name": "stdout",
     "output_type": "stream",
     "text": [
      "5 rows affected.\n",
      "5 rows affected.\n"
     ]
    }
   ],
   "source": [
    "from IPython.display import HTML\n",
    "import base64  \n",
    "import pandas as pd\n",
    "from textblob import TextBlob\n",
    "\n",
    "temp = %sql SELECT * FROM TweetsReplied;\n",
    "replied = temp.DataFrame()\n",
    "\n",
    "temp = %sql SELECT * FROM TweetsNotReplied;\n",
    "notReplied = temp.DataFrame()\n",
    "\n",
    "def numPeriods(row):\n",
    "    ct = 0\n",
    "    for i in range(len(row['tweet'])):\n",
    "        if row['tweet'][i] == '.': ct += 1\n",
    "    return ct\n",
    "\n",
    "def numCommas(row):\n",
    "    ct = 0\n",
    "    for i in range(len(row['tweet'])):\n",
    "        if row['tweet'][i] == ',': ct += 1\n",
    "    return ct\n",
    "\n",
    "def numExclamations(row):\n",
    "    ct = 0\n",
    "    for i in range(len(row['tweet'])):\n",
    "        if row['tweet'][i] == '!': ct += 1\n",
    "    return ct\n",
    "\n",
    "def numQuestions(row):\n",
    "    ct = 0\n",
    "    for i in range(len(row['tweet'])):\n",
    "        if row['tweet'][i] == '?': ct += 1\n",
    "    return ct\n",
    "\n",
    "def findPolarity(row):\n",
    "    blob = TextBlob(row['tweet'])\n",
    "    return blob.sentiment.polarity\n",
    "\n",
    "def findSubjectivity(row):\n",
    "    blob = TextBlob(row['tweet'])\n",
    "    return blob.sentiment.subjectivity"
   ]
  },
  {
   "cell_type": "code",
   "execution_count": 54,
   "metadata": {},
   "outputs": [],
   "source": [
    "replied['Periods'] = replied.apply (lambda row: numPeriods(row),axis=1)\n",
    "replied['Commas'] = replied.apply (lambda row: numCommas(row),axis=1)\n",
    "replied['Exclamations'] = replied.apply (lambda row: numExclamations(row),axis=1)\n",
    "replied['Questions'] = replied.apply (lambda row: numQuestions(row),axis=1)\n",
    "replied['Polarity'] = replied.apply (lambda row: findPolarity(row),axis=1)\n",
    "replied['Subjectivity'] = replied.apply (lambda row: findSubjectivity(row),axis=1)\n",
    "\n",
    "notReplied['Periods'] = notReplied.apply (lambda row: numPeriods(row),axis=1)\n",
    "notReplied['Commas'] = notReplied.apply (lambda row: numCommas(row),axis=1)\n",
    "notReplied['Exclamations'] = notReplied.apply (lambda row: numExclamations(row),axis=1)\n",
    "notReplied['Questions'] = notReplied.apply (lambda row: numQuestions(row),axis=1)\n",
    "notReplied['Polarity'] = notReplied.apply (lambda row: findPolarity(row),axis=1)\n",
    "notReplied['Subjectivity'] = notReplied.apply (lambda row: findSubjectivity(row),axis=1)"
   ]
  },
  {
   "cell_type": "code",
   "execution_count": 55,
   "metadata": {},
   "outputs": [
    {
     "data": {
      "text/html": [
       "<a download=\"NotReplied.csv\" href=\"data:text/csv;base64,dHdlZXRfaWQsYXV0aG9yX2lkLGluYm91bmQsY3JlYXRlZF9hdCx0d2VldCxyZXNwb25zZV90d2VldF9pZCxpbl9yZXNwb25zZV90b190d2VldF9pZCxQZXJpb2RzLENvbW1hcyxFeGNsYW1hdGlvbnMsUXVlc3Rpb25zLFBvbGFyaXR5LFN1YmplY3Rpdml0eQoyLDExNTcxMixUcnVlLDIwMTctMTAtMzEgMjI6MTE6NDUsQHNwcmludGNhcmUgYW5kIGhvdyBkbyB5b3UgcHJvcG9zZSB3ZSBkbyB0aGF0LCwxLDAsMCwwLDAsMC4wLDAuMAoxMSxzcHJpbnRjYXJlLEZhbHNlLDIwMTctMTAtMzEgMjI6MTA6MzUsIkAxMTU3MTMgVGhpcyBpcyBzYWRkZW5pbmcgdG8gaGVhci4gUGxlYXNlIHNob290IHVzIGEgRE0sIHNvIHRoYXQgd2UgY2FuIGxvb2sgaW50byB0aGlzIGZvciB5b3UuIC1LQyIsLDEyLDIsMSwwLDAsMC4wLDAuMAoxOSxzcHJpbnRjYXJlLEZhbHNlLDIwMTctMTAtMzEgMjI6MTA6MTAsQDExNTcxNSBQbGVhc2Ugc2VuZCBtZSBhIHByaXZhdGUgbWVzc2FnZSBzbyB0aGF0IEkgY2FuIHNlbmQgeW91IHRoZSBsaW5rIHRvIGFjY2VzcyB5b3VyIGFjY291bnQuIC1GUiwsMjAsMSwwLDAsMCwwLjAsMC4zNzUKMjcsQXNrX1NwZWN0cnVtLEZhbHNlLDIwMTctMTAtMzEgMjI6MjE6MjYsQDExNTcxNiBObyB0aGFuayB5b3UuIF5KSywsMjYsMSwwLDAsMCwwLjAsMC4wCjIzLDExNTcxNixUcnVlLDIwMTctMTAtMzEgMjI6MTY6MDUsQEFza19TcGVjdHJ1bSBUaGUgY29ycmVjdCB3YXkgdG8gZG8gaXQgaXMgdmlhIGFuIE9DUyBBY2NvdW50IFRha2VvdmVyIGFuZCBlbWFpbCBDb25zZW50IEZvcm0gaXQgZG9lcyBub3QgbmVlZCB0byBiZSBkb25lIGluIGEgbG9jYWwgb2ZmaWNlLCwyMSwwLDAsMCwwLDAuMCwwLjAK\" target=\"_blank\">Download CSV file</a>"
      ],
      "text/plain": [
       "<IPython.core.display.HTML object>"
      ]
     },
     "execution_count": 55,
     "metadata": {},
     "output_type": "execute_result"
    }
   ],
   "source": [
    "def create_download_link( df, title = \"Download CSV file\", filename = \"NotReplied.csv\"):  \n",
    "    csv = notReplied.to_csv(index =False)\n",
    "    b64 = base64.b64encode(csv.encode())\n",
    "    payload = b64.decode()\n",
    "    html = '<a download=\"{filename}\" href=\"data:text/csv;base64,{payload}\" target=\"_blank\">{title}</a>'\n",
    "    html = html.format(payload=payload,title=title,filename=filename)\n",
    "    return HTML(html)\n",
    "\n",
    "create_download_link(notReplied)"
   ]
  },
  {
   "cell_type": "code",
   "execution_count": 56,
   "metadata": {},
   "outputs": [
    {
     "data": {
      "text/html": [
       "<a download=\"Replied.csv\" href=\"data:text/csv;base64,dHdlZXRfaWQsYXV0aG9yX2lkLGluYm91bmQsY3JlYXRlZF9hdCx0d2VldCxyZXNwb25zZV90d2VldF9pZCxpbl9yZXNwb25zZV90b190d2VldF9pZCxQZXJpb2RzLENvbW1hcyxFeGNsYW1hdGlvbnMsUXVlc3Rpb25zLFBvbGFyaXR5LFN1YmplY3Rpdml0eQoxLHNwcmludGNhcmUsRmFsc2UsMjAxNy0xMC0zMSAyMjoxMDo0NyxAMTE1NzEyIEkgdW5kZXJzdGFuZC4gSSB3b3VsZCBsaWtlIHRvIGFzc2lzdCB5b3UuIFdlIHdvdWxkIG5lZWQgdG8gZ2V0IHlvdSBpbnRvIGEgcHJpdmF0ZSBzZWN1cmVkIGxpbmsgdG8gZnVydGhlciBhc3Npc3QuLDIsMywzLDAsMCwwLDAuMCwwLjQzNzUKMywxMTU3MTIsVHJ1ZSwyMDE3LTEwLTMxIDIyOjA4OjI3LEBzcHJpbnRjYXJlIEkgaGF2ZSBzZW50IHNldmVyYWwgcHJpdmF0ZSBtZXNzYWdlcyBhbmQgbm8gb25lIGlzIHJlc3BvbmRpbmcgYXMgdXN1YWwsMSw0LDAsMCwwLDAsLTAuMDgzMzMzMzMzMzMzMzMzMzMsMC4yMDgzMzMzMzMzMzMzMzMzNAo0LHNwcmludGNhcmUsRmFsc2UsMjAxNy0xMC0zMSAyMTo1NDo0OSxAMTE1NzEyIFBsZWFzZSBzZW5kIHVzIGEgUHJpdmF0ZSBNZXNzYWdlIHNvIHRoYXQgd2UgY2FuIGZ1cnRoZXIgYXNzaXN0IHlvdS4gSnVzdCBjbGljayDDosKAwphNZXNzYWdlw6LCgMKZIGF0IHRoZSB0b3Agb2YgeW91ciBwcm9maWxlLiwzLDUsMiwwLDAsMCwwLjE2NjY2NjY2NjY2NjY2NjY2LDAuNDU4MzMzMzMzMzMzMzMzMwo1LDExNTcxMixUcnVlLDIwMTctMTAtMzEgMjE6NDk6MzUsQHNwcmludGNhcmUgSSBkaWQuLDQsNiwxLDAsMCwwLDAuMCwwLjAKNixzcHJpbnRjYXJlLEZhbHNlLDIwMTctMTAtMzEgMjE6NDY6MjQsIkAxMTU3MTIgQ2FuIHlvdSBwbGVhc2Ugc2VuZCB1cyBhIHByaXZhdGUgbWVzc2FnZSwgc28gdGhhdCBJIGNhbiBnYWluIGZ1cnRoZXIgZGV0YWlscyBhYm91dCB5b3VyIGFjY291bnQ/IiwiNSw3Iiw4LDAsMSwwLDEsMC4wLDAuNDM3NQo=\" target=\"_blank\">Download CSV file</a>"
      ],
      "text/plain": [
       "<IPython.core.display.HTML object>"
      ]
     },
     "execution_count": 56,
     "metadata": {},
     "output_type": "execute_result"
    }
   ],
   "source": [
    "from IPython.display import HTML\n",
    "import base64  \n",
    "import pandas as pd  \n",
    "\n",
    "def create_download_link( df, title = \"Download CSV file\", filename = \"Replied.csv\"):  \n",
    "    csv = replied.to_csv(index =False)\n",
    "    b64 = base64.b64encode(csv.encode())\n",
    "    payload = b64.decode()\n",
    "    html = '<a download=\"{filename}\" href=\"data:text/csv;base64,{payload}\" target=\"_blank\">{title}</a>'\n",
    "    html = html.format(payload=payload,title=title,filename=filename)\n",
    "    return HTML(html)\n",
    "\n",
    "create_download_link(replied)"
   ]
  },
  {
   "cell_type": "code",
   "execution_count": 58,
   "metadata": {},
   "outputs": [
    {
     "data": {
      "text/html": [
       "<div>\n",
       "<style>\n",
       "    .dataframe thead tr:only-child th {\n",
       "        text-align: right;\n",
       "    }\n",
       "\n",
       "    .dataframe thead th {\n",
       "        text-align: left;\n",
       "    }\n",
       "\n",
       "    .dataframe tbody tr th {\n",
       "        vertical-align: top;\n",
       "    }\n",
       "</style>\n",
       "<table border=\"1\" class=\"dataframe\">\n",
       "  <thead>\n",
       "    <tr style=\"text-align: right;\">\n",
       "      <th></th>\n",
       "      <th>tweet_id</th>\n",
       "      <th>author_id</th>\n",
       "      <th>inbound</th>\n",
       "      <th>created_at</th>\n",
       "      <th>tweet</th>\n",
       "      <th>response_tweet_id</th>\n",
       "      <th>in_response_to_tweet_id</th>\n",
       "      <th>Periods</th>\n",
       "      <th>Commas</th>\n",
       "      <th>Exclamations</th>\n",
       "      <th>Questions</th>\n",
       "      <th>Polarity</th>\n",
       "      <th>Subjectivity</th>\n",
       "    </tr>\n",
       "  </thead>\n",
       "  <tbody>\n",
       "    <tr>\n",
       "      <th>0</th>\n",
       "      <td>1</td>\n",
       "      <td>sprintcare</td>\n",
       "      <td>False</td>\n",
       "      <td>2017-10-31 22:10:47</td>\n",
       "      <td>@115712 I understand. I would like to assist y...</td>\n",
       "      <td>2</td>\n",
       "      <td>3</td>\n",
       "      <td>3</td>\n",
       "      <td>0</td>\n",
       "      <td>0</td>\n",
       "      <td>0</td>\n",
       "      <td>0.000000</td>\n",
       "      <td>0.437500</td>\n",
       "    </tr>\n",
       "    <tr>\n",
       "      <th>1</th>\n",
       "      <td>3</td>\n",
       "      <td>115712</td>\n",
       "      <td>True</td>\n",
       "      <td>2017-10-31 22:08:27</td>\n",
       "      <td>@sprintcare I have sent several private messag...</td>\n",
       "      <td>1</td>\n",
       "      <td>4</td>\n",
       "      <td>0</td>\n",
       "      <td>0</td>\n",
       "      <td>0</td>\n",
       "      <td>0</td>\n",
       "      <td>-0.083333</td>\n",
       "      <td>0.208333</td>\n",
       "    </tr>\n",
       "    <tr>\n",
       "      <th>2</th>\n",
       "      <td>4</td>\n",
       "      <td>sprintcare</td>\n",
       "      <td>False</td>\n",
       "      <td>2017-10-31 21:54:49</td>\n",
       "      <td>@115712 Please send us a Private Message so th...</td>\n",
       "      <td>3</td>\n",
       "      <td>5</td>\n",
       "      <td>2</td>\n",
       "      <td>0</td>\n",
       "      <td>0</td>\n",
       "      <td>0</td>\n",
       "      <td>0.166667</td>\n",
       "      <td>0.458333</td>\n",
       "    </tr>\n",
       "    <tr>\n",
       "      <th>3</th>\n",
       "      <td>5</td>\n",
       "      <td>115712</td>\n",
       "      <td>True</td>\n",
       "      <td>2017-10-31 21:49:35</td>\n",
       "      <td>@sprintcare I did.</td>\n",
       "      <td>4</td>\n",
       "      <td>6</td>\n",
       "      <td>1</td>\n",
       "      <td>0</td>\n",
       "      <td>0</td>\n",
       "      <td>0</td>\n",
       "      <td>0.000000</td>\n",
       "      <td>0.000000</td>\n",
       "    </tr>\n",
       "    <tr>\n",
       "      <th>4</th>\n",
       "      <td>6</td>\n",
       "      <td>sprintcare</td>\n",
       "      <td>False</td>\n",
       "      <td>2017-10-31 21:46:24</td>\n",
       "      <td>@115712 Can you please send us a private messa...</td>\n",
       "      <td>5,7</td>\n",
       "      <td>8</td>\n",
       "      <td>0</td>\n",
       "      <td>1</td>\n",
       "      <td>0</td>\n",
       "      <td>1</td>\n",
       "      <td>0.000000</td>\n",
       "      <td>0.437500</td>\n",
       "    </tr>\n",
       "  </tbody>\n",
       "</table>\n",
       "</div>"
      ],
      "text/plain": [
       "  tweet_id   author_id  inbound          created_at  \\\n",
       "0        1  sprintcare    False 2017-10-31 22:10:47   \n",
       "1        3      115712     True 2017-10-31 22:08:27   \n",
       "2        4  sprintcare    False 2017-10-31 21:54:49   \n",
       "3        5      115712     True 2017-10-31 21:49:35   \n",
       "4        6  sprintcare    False 2017-10-31 21:46:24   \n",
       "\n",
       "                                               tweet response_tweet_id  \\\n",
       "0  @115712 I understand. I would like to assist y...                 2   \n",
       "1  @sprintcare I have sent several private messag...                 1   \n",
       "2  @115712 Please send us a Private Message so th...                 3   \n",
       "3                                 @sprintcare I did.                 4   \n",
       "4  @115712 Can you please send us a private messa...               5,7   \n",
       "\n",
       "  in_response_to_tweet_id  Periods  Commas  Exclamations  Questions  Polarity  \\\n",
       "0                       3        3       0             0          0  0.000000   \n",
       "1                       4        0       0             0          0 -0.083333   \n",
       "2                       5        2       0             0          0  0.166667   \n",
       "3                       6        1       0             0          0  0.000000   \n",
       "4                       8        0       1             0          1  0.000000   \n",
       "\n",
       "   Subjectivity  \n",
       "0      0.437500  \n",
       "1      0.208333  \n",
       "2      0.458333  \n",
       "3      0.000000  \n",
       "4      0.437500  "
      ]
     },
     "execution_count": 58,
     "metadata": {},
     "output_type": "execute_result"
    }
   ],
   "source": [
    "replied"
   ]
  },
  {
   "cell_type": "code",
   "execution_count": null,
   "metadata": {
    "collapsed": true
   },
   "outputs": [],
   "source": []
  }
 ],
 "metadata": {
  "kernelspec": {
   "display_name": "Python 3",
   "language": "python",
   "name": "python3"
  },
  "language_info": {
   "codemirror_mode": {
    "name": "ipython",
    "version": 3
   },
   "file_extension": ".py",
   "mimetype": "text/x-python",
   "name": "python",
   "nbconvert_exporter": "python",
   "pygments_lexer": "ipython3",
   "version": "3.6.1"
  }
 },
 "nbformat": 4,
 "nbformat_minor": 2
}
