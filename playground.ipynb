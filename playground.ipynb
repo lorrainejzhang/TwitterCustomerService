{
 "cells": [
  {
   "cell_type": "markdown",
   "metadata": {},
   "source": [
    "run with jupyter notebook --NotebookApp.iopub_data_rate_limit=10000000000  playground.ipynb "
   ]
  },
  {
   "cell_type": "code",
   "execution_count": 1,
   "metadata": {},
   "outputs": [
    {
     "data": {
      "text/plain": [
       "'Connected: isdb@postgres'"
      ]
     },
     "execution_count": 1,
     "metadata": {},
     "output_type": "execute_result"
    }
   ],
   "source": [
    "%reload_ext sql\n",
    "%sql postgres://isdb@localhost/postgres"
   ]
  },
  {
   "cell_type": "code",
   "execution_count": 22,
   "metadata": {},
   "outputs": [
    {
     "name": "stdout",
     "output_type": "stream",
     "text": [
      "5 rows affected.\n"
     ]
    },
    {
     "data": {
      "text/html": [
       "<table>\n",
       "    <tr>\n",
       "        <th>tweet_id</th>\n",
       "        <th>author_id</th>\n",
       "        <th>inbound</th>\n",
       "        <th>created_at</th>\n",
       "        <th>tweet</th>\n",
       "        <th>response_tweet_id</th>\n",
       "        <th>in_response_to_tweet_id</th>\n",
       "    </tr>\n",
       "    <tr>\n",
       "        <td>1</td>\n",
       "        <td>sprintcare</td>\n",
       "        <td>False</td>\n",
       "        <td>2017-10-31 22:10:47</td>\n",
       "        <td>@115712 I understand. I would like to assist you. We would need to get you into a private secured link to further assist.</td>\n",
       "        <td>2</td>\n",
       "        <td>3</td>\n",
       "    </tr>\n",
       "    <tr>\n",
       "        <td>2</td>\n",
       "        <td>115712</td>\n",
       "        <td>True</td>\n",
       "        <td>2017-10-31 22:11:45</td>\n",
       "        <td>@sprintcare and how do you propose we do that</td>\n",
       "        <td>None</td>\n",
       "        <td>1</td>\n",
       "    </tr>\n",
       "    <tr>\n",
       "        <td>3</td>\n",
       "        <td>115712</td>\n",
       "        <td>True</td>\n",
       "        <td>2017-10-31 22:08:27</td>\n",
       "        <td>@sprintcare I have sent several private messages and no one is responding as usual</td>\n",
       "        <td>1</td>\n",
       "        <td>4</td>\n",
       "    </tr>\n",
       "    <tr>\n",
       "        <td>4</td>\n",
       "        <td>sprintcare</td>\n",
       "        <td>False</td>\n",
       "        <td>2017-10-31 21:54:49</td>\n",
       "        <td>@115712 Please send us a Private Message so that we can further assist you. Just click âMessageâ at the top of your profile.</td>\n",
       "        <td>3</td>\n",
       "        <td>5</td>\n",
       "    </tr>\n",
       "    <tr>\n",
       "        <td>5</td>\n",
       "        <td>115712</td>\n",
       "        <td>True</td>\n",
       "        <td>2017-10-31 21:49:35</td>\n",
       "        <td>@sprintcare I did.</td>\n",
       "        <td>4</td>\n",
       "        <td>6</td>\n",
       "    </tr>\n",
       "</table>"
      ],
      "text/plain": [
       "[('1', 'sprintcare', False, datetime.datetime(2017, 10, 31, 22, 10, 47), '@115712 I understand. I would like to assist you. We would need to get you into a private secured link to further assist.', '2', '3'),\n",
       " ('2', '115712', True, datetime.datetime(2017, 10, 31, 22, 11, 45), '@sprintcare and how do you propose we do that', None, '1'),\n",
       " ('3', '115712', True, datetime.datetime(2017, 10, 31, 22, 8, 27), '@sprintcare I have sent several private messages and no one is responding as usual', '1', '4'),\n",
       " ('4', 'sprintcare', False, datetime.datetime(2017, 10, 31, 21, 54, 49), '@115712 Please send us a Private Message so that we can further assist you. Just click â\\x80\\x98Messageâ\\x80\\x99 at the top of your profile.', '3', '5'),\n",
       " ('5', '115712', True, datetime.datetime(2017, 10, 31, 21, 49, 35), '@sprintcare I did.', '4', '6')]"
      ]
     },
     "execution_count": 22,
     "metadata": {},
     "output_type": "execute_result"
    }
   ],
   "source": [
    "%%sql\n",
    "\n",
    "SELECT * FROM TweetsRaw LIMIT 5;"
   ]
  },
  {
   "cell_type": "code",
   "execution_count": 25,
   "metadata": {},
   "outputs": [
    {
     "name": "stdout",
     "output_type": "stream",
     "text": [
      "Done.\n",
      "Done.\n"
     ]
    },
    {
     "data": {
      "text/plain": [
       "[]"
      ]
     },
     "execution_count": 25,
     "metadata": {},
     "output_type": "execute_result"
    }
   ],
   "source": [
    "%%sql\n",
    "\n",
    "DROP VIEW IF EXISTS OriginalTweets;\n",
    "\n",
    "CREATE VIEW OriginalTweets AS\n",
    "SELECT * FROM TweetsRaw\n",
    "WHERE in_response_to_tweet_id IS NULL;"
   ]
  },
  {
   "cell_type": "code",
   "execution_count": 43,
   "metadata": {},
   "outputs": [
    {
     "name": "stdout",
     "output_type": "stream",
     "text": [
      "Done.\n",
      "Done.\n"
     ]
    },
    {
     "data": {
      "text/plain": [
       "[]"
      ]
     },
     "execution_count": 43,
     "metadata": {},
     "output_type": "execute_result"
    }
   ],
   "source": [
    "%%sql\n",
    "\n",
    "DROP VIEW IF EXISTS TweetsReplied;\n",
    "\n",
    "CREATE VIEW TweetsReplied AS\n",
    "SELECT * FROM TweetsRaw\n",
    "WHERE response_tweet_id IS NOT NULL;"
   ]
  },
  {
   "cell_type": "code",
   "execution_count": 2,
   "metadata": {},
   "outputs": [
    {
     "name": "stdout",
     "output_type": "stream",
     "text": [
      "Done.\n",
      "Done.\n"
     ]
    },
    {
     "data": {
      "text/plain": [
       "[]"
      ]
     },
     "execution_count": 2,
     "metadata": {},
     "output_type": "execute_result"
    }
   ],
   "source": [
    "%%sql\n",
    "\n",
    "DROP VIEW IF EXISTS TweetsNotReplied;\n",
    "\n",
    "CREATE VIEW TweetsNotReplied AS\n",
    "SELECT * FROM TweetsRaw\n",
    "WHERE response_tweet_id IS NULL\n",
    "LIMIT 5;"
   ]
  },
  {
   "cell_type": "code",
   "execution_count": 29,
   "metadata": {},
   "outputs": [
    {
     "name": "stdout",
     "output_type": "stream",
     "text": [
      "5 rows affected.\n"
     ]
    },
    {
     "data": {
      "text/html": [
       "<table>\n",
       "    <tr>\n",
       "        <th>tweet_id</th>\n",
       "        <th>tweet</th>\n",
       "        <th>replies</th>\n",
       "    </tr>\n",
       "    <tr>\n",
       "        <td>1000001</td>\n",
       "        <td>@AppleSupport Is this allowed when you upgrade at an Apple store with the upgrade program?</td>\n",
       "        <td>1</td>\n",
       "    </tr>\n",
       "    <tr>\n",
       "        <td>1000003</td>\n",
       "        <td>@AppleSupport  https://t.co/OnHabGwPo7</td>\n",
       "        <td>1</td>\n",
       "    </tr>\n",
       "    <tr>\n",
       "        <td>1000010</td>\n",
       "        <td>@AppleSupport Does this mean I donât have to back my old phone up?</td>\n",
       "        <td>1</td>\n",
       "    </tr>\n",
       "    <tr>\n",
       "        <td>1000011</td>\n",
       "        <td>@356751 Thanks for reaching out to us for support. We would love to help you. Please DM us so that we can look into this together. https://t.co/GDrqU22YpT</td>\n",
       "        <td>1</td>\n",
       "    </tr>\n",
       "    <tr>\n",
       "        <td>10</td>\n",
       "        <td>@115712 Hello! We never like our customers to feel like they are not valued.</td>\n",
       "        <td>1</td>\n",
       "    </tr>\n",
       "</table>"
      ],
      "text/plain": [
       "[('1000001', '@AppleSupport Is this allowed when you upgrade at an Apple store with the upgrade program?', 1),\n",
       " ('1000003', '@AppleSupport  https://t.co/OnHabGwPo7', 1),\n",
       " ('1000010', '@AppleSupport Does this mean I donâ\\x80\\x99t have to back my old phone up?', 1),\n",
       " ('1000011', '@356751 Thanks for reaching out to us for support. We would love to help you. Please DM us so that we can look into this together. https://t.co/GDrqU22YpT', 1),\n",
       " ('10', '@115712 Hello! We never like our customers to feel like they are not valued.', 1)]"
      ]
     },
     "execution_count": 29,
     "metadata": {},
     "output_type": "execute_result"
    }
   ],
   "source": [
    "%%sql\n",
    "\n",
    "SELECT r.tweet_id, r.tweet, COUNT(o.*) AS replies\n",
    "FROM OriginalTweets AS o\n",
    "JOIN TweetsRaw AS r\n",
    "ON r.in_response_to_tweet_id = o.tweet_id\n",
    "GROUP BY r.tweet_id, r.tweet\n",
    "ORDER BY replies DESC\n",
    "LIMIT 5;"
   ]
  },
  {
   "cell_type": "code",
   "execution_count": 36,
   "metadata": {},
   "outputs": [
    {
     "name": "stdout",
     "output_type": "stream",
     "text": [
      "1 rows affected.\n"
     ]
    },
    {
     "data": {
      "text/html": [
       "<table>\n",
       "    <tr>\n",
       "        <th>count</th>\n",
       "    </tr>\n",
       "    <tr>\n",
       "        <td>2811774</td>\n",
       "    </tr>\n",
       "</table>"
      ],
      "text/plain": [
       "[(2811774,)]"
      ]
     },
     "execution_count": 36,
     "metadata": {},
     "output_type": "execute_result"
    }
   ],
   "source": [
    "%%sql\n",
    "\n",
    "SELECT COUNT(*) FROM TweetsRaw;"
   ]
  },
  {
   "cell_type": "code",
   "execution_count": 44,
   "metadata": {},
   "outputs": [
    {
     "name": "stdout",
     "output_type": "stream",
     "text": [
      "1 rows affected.\n"
     ]
    },
    {
     "data": {
      "text/html": [
       "<table>\n",
       "    <tr>\n",
       "        <th>count</th>\n",
       "    </tr>\n",
       "    <tr>\n",
       "        <td>1771145</td>\n",
       "    </tr>\n",
       "</table>"
      ],
      "text/plain": [
       "[(1771145,)]"
      ]
     },
     "execution_count": 44,
     "metadata": {},
     "output_type": "execute_result"
    }
   ],
   "source": [
    "%%sql\n",
    "SELECT COUNT(*) FROM TweetsReplied;"
   ]
  },
  {
   "cell_type": "code",
   "execution_count": 42,
   "metadata": {},
   "outputs": [
    {
     "name": "stdout",
     "output_type": "stream",
     "text": [
      "1 rows affected.\n"
     ]
    },
    {
     "data": {
      "text/html": [
       "<table>\n",
       "    <tr>\n",
       "        <th>count</th>\n",
       "    </tr>\n",
       "    <tr>\n",
       "        <td>1040629</td>\n",
       "    </tr>\n",
       "</table>"
      ],
      "text/plain": [
       "[(1040629,)]"
      ]
     },
     "execution_count": 42,
     "metadata": {},
     "output_type": "execute_result"
    }
   ],
   "source": [
    "%%sql\n",
    "SELECT COUNT(*) FROM TweetsNotReplied;"
   ]
  },
  {
   "cell_type": "code",
   "execution_count": 22,
   "metadata": {},
   "outputs": [
    {
     "name": "stdout",
     "output_type": "stream",
     "text": [
      "5 rows affected.\n"
     ]
    }
   ],
   "source": [
    "from IPython.display import HTML\n",
    "import base64  \n",
    "import pandas as pd  \n",
    "\n",
    "temp = %sql SELECT * FROM TweetsNotReplied;\n",
    "notReplied = temp.DataFrame()\n",
    "\n",
    "def numPeriods(row):\n",
    "    ct = 0\n",
    "    for i in range(len(row['tweet'])):\n",
    "        if row['tweet'][i] == '.': ct += 1\n",
    "    return ct\n",
    "\n",
    "replied['Periods'] = replied.apply (lambda row: numPeriods(row),axis=1)\n",
    "\n",
    "def numCommas(row):\n",
    "    ct = 0\n",
    "    for i in range(len(row['tweet'])):\n",
    "        if row['tweet'][i] == ',': ct += 1\n",
    "    return ct\n",
    "\n",
    "replied['Commas'] = replied.apply (lambda row: numCommas(row),axis=1)\n",
    "\n",
    "def numExclamations(row):\n",
    "    ct = 0\n",
    "    for i in range(len(row['tweet'])):\n",
    "        if row['tweet'][i] == '!': ct += 1\n",
    "    return ct\n",
    "\n",
    "replied['Exclamations'] = replied.apply (lambda row: numExclamations(row),axis=1)"
   ]
  },
  {
   "cell_type": "code",
   "execution_count": 24,
   "metadata": {},
   "outputs": [
    {
     "name": "stdout",
     "output_type": "stream",
     "text": [
      "5 rows affected.\n",
      "5 rows affected.\n"
     ]
    }
   ],
   "source": [
    "notReplied = %sql SELECT * FROM TweetsReplied;\n",
    "\n",
    "temp = %sql SELECT * FROM TweetsReplied;\n",
    "replied = temp.DataFrame()\n",
    "\n",
    "replied['Periods'] = replied.apply (lambda row: numPeriods(row),axis=1)\n",
    "replied['Commas'] = replied.apply (lambda row: numCommas(row),axis=1)\n",
    "replied['Exclamations'] = replied.apply (lambda row: numExclamations(row),axis=1)"
   ]
  },
  {
   "cell_type": "code",
   "execution_count": 25,
   "metadata": {},
   "outputs": [
    {
     "data": {
      "text/html": [
       "<a download=\"NotReplied.csv\" href=\"data:text/csv;base64,dHdlZXRfaWQsYXV0aG9yX2lkLGluYm91bmQsY3JlYXRlZF9hdCx0d2VldCxyZXNwb25zZV90d2VldF9pZCxpbl9yZXNwb25zZV90b190d2VldF9pZAoxLHNwcmludGNhcmUsRmFsc2UsMjAxNy0xMC0zMSAyMjoxMDo0NyxAMTE1NzEyIEkgdW5kZXJzdGFuZC4gSSB3b3VsZCBsaWtlIHRvIGFzc2lzdCB5b3UuIFdlIHdvdWxkIG5lZWQgdG8gZ2V0IHlvdSBpbnRvIGEgcHJpdmF0ZSBzZWN1cmVkIGxpbmsgdG8gZnVydGhlciBhc3Npc3QuLDIsMwozLDExNTcxMixUcnVlLDIwMTctMTAtMzEgMjI6MDg6MjcsQHNwcmludGNhcmUgSSBoYXZlIHNlbnQgc2V2ZXJhbCBwcml2YXRlIG1lc3NhZ2VzIGFuZCBubyBvbmUgaXMgcmVzcG9uZGluZyBhcyB1c3VhbCwxLDQKNCxzcHJpbnRjYXJlLEZhbHNlLDIwMTctMTAtMzEgMjE6NTQ6NDksQDExNTcxMiBQbGVhc2Ugc2VuZCB1cyBhIFByaXZhdGUgTWVzc2FnZSBzbyB0aGF0IHdlIGNhbiBmdXJ0aGVyIGFzc2lzdCB5b3UuIEp1c3QgY2xpY2sgw6LCgMKYTWVzc2FnZcOiwoDCmSBhdCB0aGUgdG9wIG9mIHlvdXIgcHJvZmlsZS4sMyw1CjUsMTE1NzEyLFRydWUsMjAxNy0xMC0zMSAyMTo0OTozNSxAc3ByaW50Y2FyZSBJIGRpZC4sNCw2CjYsc3ByaW50Y2FyZSxGYWxzZSwyMDE3LTEwLTMxIDIxOjQ2OjI0LCJAMTE1NzEyIENhbiB5b3UgcGxlYXNlIHNlbmQgdXMgYSBwcml2YXRlIG1lc3NhZ2UsIHNvIHRoYXQgSSBjYW4gZ2FpbiBmdXJ0aGVyIGRldGFpbHMgYWJvdXQgeW91ciBhY2NvdW50PyIsIjUsNyIsOAo=\" target=\"_blank\">Download CSV file</a>"
      ],
      "text/plain": [
       "<IPython.core.display.HTML object>"
      ]
     },
     "execution_count": 25,
     "metadata": {},
     "output_type": "execute_result"
    }
   ],
   "source": [
    "def create_download_link( df, title = \"Download CSV file\", filename = \"NotReplied.csv\"):  \n",
    "    csv = notReplied.DataFrame().to_csv(index =False)\n",
    "    b64 = base64.b64encode(csv.encode())\n",
    "    payload = b64.decode()\n",
    "    html = '<a download=\"{filename}\" href=\"data:text/csv;base64,{payload}\" target=\"_blank\">{title}</a>'\n",
    "    html = html.format(payload=payload,title=title,filename=filename)\n",
    "    return HTML(html)\n",
    "\n",
    "create_download_link(notReplied)"
   ]
  },
  {
   "cell_type": "code",
   "execution_count": 26,
   "metadata": {},
   "outputs": [
    {
     "data": {
      "text/html": [
       "<a download=\"Replied.csv\" href=\"data:text/csv;base64,dHdlZXRfaWQsYXV0aG9yX2lkLGluYm91bmQsY3JlYXRlZF9hdCx0d2VldCxyZXNwb25zZV90d2VldF9pZCxpbl9yZXNwb25zZV90b190d2VldF9pZCxQZXJpb2RzLENvbW1hcyxFeGNsYW1hdGlvbnMKMSxzcHJpbnRjYXJlLEZhbHNlLDIwMTctMTAtMzEgMjI6MTA6NDcsQDExNTcxMiBJIHVuZGVyc3RhbmQuIEkgd291bGQgbGlrZSB0byBhc3Npc3QgeW91LiBXZSB3b3VsZCBuZWVkIHRvIGdldCB5b3UgaW50byBhIHByaXZhdGUgc2VjdXJlZCBsaW5rIHRvIGZ1cnRoZXIgYXNzaXN0LiwyLDMsMywwLDAKMywxMTU3MTIsVHJ1ZSwyMDE3LTEwLTMxIDIyOjA4OjI3LEBzcHJpbnRjYXJlIEkgaGF2ZSBzZW50IHNldmVyYWwgcHJpdmF0ZSBtZXNzYWdlcyBhbmQgbm8gb25lIGlzIHJlc3BvbmRpbmcgYXMgdXN1YWwsMSw0LDAsMCwwCjQsc3ByaW50Y2FyZSxGYWxzZSwyMDE3LTEwLTMxIDIxOjU0OjQ5LEAxMTU3MTIgUGxlYXNlIHNlbmQgdXMgYSBQcml2YXRlIE1lc3NhZ2Ugc28gdGhhdCB3ZSBjYW4gZnVydGhlciBhc3Npc3QgeW91LiBKdXN0IGNsaWNrIMOiwoDCmE1lc3NhZ2XDosKAwpkgYXQgdGhlIHRvcCBvZiB5b3VyIHByb2ZpbGUuLDMsNSwyLDAsMAo1LDExNTcxMixUcnVlLDIwMTctMTAtMzEgMjE6NDk6MzUsQHNwcmludGNhcmUgSSBkaWQuLDQsNiwxLDAsMAo2LHNwcmludGNhcmUsRmFsc2UsMjAxNy0xMC0zMSAyMTo0NjoyNCwiQDExNTcxMiBDYW4geW91IHBsZWFzZSBzZW5kIHVzIGEgcHJpdmF0ZSBtZXNzYWdlLCBzbyB0aGF0IEkgY2FuIGdhaW4gZnVydGhlciBkZXRhaWxzIGFib3V0IHlvdXIgYWNjb3VudD8iLCI1LDciLDgsMCwxLDAK\" target=\"_blank\">Download CSV file</a>"
      ],
      "text/plain": [
       "<IPython.core.display.HTML object>"
      ]
     },
     "execution_count": 26,
     "metadata": {},
     "output_type": "execute_result"
    }
   ],
   "source": [
    "from IPython.display import HTML\n",
    "import base64  \n",
    "import pandas as pd  \n",
    "\n",
    "def create_download_link( df, title = \"Download CSV file\", filename = \"Replied.csv\"):  \n",
    "    csv = replied.to_csv(index =False)\n",
    "    b64 = base64.b64encode(csv.encode())\n",
    "    payload = b64.decode()\n",
    "    html = '<a download=\"{filename}\" href=\"data:text/csv;base64,{payload}\" target=\"_blank\">{title}</a>'\n",
    "    html = html.format(payload=payload,title=title,filename=filename)\n",
    "    return HTML(html)\n",
    "\n",
    "create_download_link(replied)"
   ]
  },
  {
   "cell_type": "code",
   "execution_count": null,
   "metadata": {
    "collapsed": true
   },
   "outputs": [],
   "source": []
  }
 ],
 "metadata": {
  "kernelspec": {
   "display_name": "Python 3",
   "language": "python",
   "name": "python3"
  },
  "language_info": {
   "codemirror_mode": {
    "name": "ipython",
    "version": 3
   },
   "file_extension": ".py",
   "mimetype": "text/x-python",
   "name": "python",
   "nbconvert_exporter": "python",
   "pygments_lexer": "ipython3",
   "version": "3.6.1"
  }
 },
 "nbformat": 4,
 "nbformat_minor": 2
}
